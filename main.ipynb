{
 "cells": [
  {
   "cell_type": "code",
   "execution_count": 1,
   "metadata": {},
   "outputs": [
    {
     "name": "stdout",
     "output_type": "stream",
     "text": [
      "Requirement already satisfied: boto3 in c:\\users\\user\\appdata\\local\\programs\\python\\python310\\lib\\site-packages (1.28.15)\n",
      "Requirement already satisfied: opencv-python in c:\\users\\user\\appdata\\local\\programs\\python\\python310\\lib\\site-packages (4.7.0.72)\n",
      "Requirement already satisfied: cvzone in c:\\users\\user\\appdata\\local\\programs\\python\\python310\\lib\\site-packages (1.5.6)\n",
      "Requirement already satisfied: mediapipe in c:\\users\\user\\appdata\\local\\programs\\python\\python310\\lib\\site-packages (0.10.3)\n",
      "Requirement already satisfied: botocore<1.32.0,>=1.31.15 in c:\\users\\user\\appdata\\local\\programs\\python\\python310\\lib\\site-packages (from boto3) (1.31.15)\n",
      "Requirement already satisfied: jmespath<2.0.0,>=0.7.1 in c:\\users\\user\\appdata\\local\\programs\\python\\python310\\lib\\site-packages (from boto3) (1.0.1)\n",
      "Requirement already satisfied: s3transfer<0.7.0,>=0.6.0 in c:\\users\\user\\appdata\\local\\programs\\python\\python310\\lib\\site-packages (from boto3) (0.6.1)\n",
      "Requirement already satisfied: numpy>=1.21.2 in c:\\users\\user\\appdata\\local\\programs\\python\\python310\\lib\\site-packages (from opencv-python) (1.24.3)\n",
      "Requirement already satisfied: absl-py in c:\\users\\user\\appdata\\local\\programs\\python\\python310\\lib\\site-packages (from mediapipe) (1.4.0)\n",
      "Requirement already satisfied: attrs>=19.1.0 in c:\\users\\user\\appdata\\local\\programs\\python\\python310\\lib\\site-packages (from mediapipe) (23.1.0)\n",
      "Requirement already satisfied: flatbuffers>=2.0 in c:\\users\\user\\appdata\\local\\programs\\python\\python310\\lib\\site-packages (from mediapipe) (23.5.26)\n",
      "Requirement already satisfied: matplotlib in c:\\users\\user\\appdata\\local\\programs\\python\\python310\\lib\\site-packages (from mediapipe) (3.7.1)\n",
      "Requirement already satisfied: opencv-contrib-python in c:\\users\\user\\appdata\\local\\programs\\python\\python310\\lib\\site-packages (from mediapipe) (4.7.0.72)\n",
      "Requirement already satisfied: protobuf<4,>=3.11 in c:\\users\\user\\appdata\\local\\programs\\python\\python310\\lib\\site-packages (from mediapipe) (3.20.3)\n",
      "Requirement already satisfied: sounddevice>=0.4.4 in c:\\users\\user\\appdata\\local\\programs\\python\\python310\\lib\\site-packages (from mediapipe) (0.4.6)\n",
      "Requirement already satisfied: python-dateutil<3.0.0,>=2.1 in c:\\users\\user\\appdata\\roaming\\python\\python310\\site-packages (from botocore<1.32.0,>=1.31.15->boto3) (2.8.2)\n",
      "Requirement already satisfied: urllib3<1.27,>=1.25.4 in c:\\users\\user\\appdata\\local\\programs\\python\\python310\\lib\\site-packages (from botocore<1.32.0,>=1.31.15->boto3) (1.26.16)\n",
      "Requirement already satisfied: CFFI>=1.0 in c:\\users\\user\\appdata\\local\\programs\\python\\python310\\lib\\site-packages (from sounddevice>=0.4.4->mediapipe) (1.15.1)\n",
      "Requirement already satisfied: contourpy>=1.0.1 in c:\\users\\user\\appdata\\local\\programs\\python\\python310\\lib\\site-packages (from matplotlib->mediapipe) (1.0.7)\n",
      "Requirement already satisfied: cycler>=0.10 in c:\\users\\user\\appdata\\local\\programs\\python\\python310\\lib\\site-packages (from matplotlib->mediapipe) (0.11.0)\n",
      "Requirement already satisfied: fonttools>=4.22.0 in c:\\users\\user\\appdata\\local\\programs\\python\\python310\\lib\\site-packages (from matplotlib->mediapipe) (4.39.4)\n",
      "Requirement already satisfied: kiwisolver>=1.0.1 in c:\\users\\user\\appdata\\local\\programs\\python\\python310\\lib\\site-packages (from matplotlib->mediapipe) (1.4.4)\n",
      "Requirement already satisfied: packaging>=20.0 in c:\\users\\user\\appdata\\roaming\\python\\python310\\site-packages (from matplotlib->mediapipe) (23.1)\n",
      "Requirement already satisfied: pillow>=6.2.0 in c:\\users\\user\\appdata\\local\\programs\\python\\python310\\lib\\site-packages (from matplotlib->mediapipe) (9.5.0)\n",
      "Requirement already satisfied: pyparsing>=2.3.1 in c:\\users\\user\\appdata\\local\\programs\\python\\python310\\lib\\site-packages (from matplotlib->mediapipe) (3.0.9)\n",
      "Requirement already satisfied: pycparser in c:\\users\\user\\appdata\\local\\programs\\python\\python310\\lib\\site-packages (from CFFI>=1.0->sounddevice>=0.4.4->mediapipe) (2.21)\n",
      "Requirement already satisfied: six>=1.5 in c:\\users\\user\\appdata\\roaming\\python\\python310\\site-packages (from python-dateutil<3.0.0,>=2.1->botocore<1.32.0,>=1.31.15->boto3) (1.16.0)\n",
      "Note: you may need to restart the kernel to use updated packages.\n"
     ]
    }
   ],
   "source": [
    "pip install boto3 opencv-python cvzone mediapipe"
   ]
  },
  {
   "cell_type": "code",
   "execution_count": 1,
   "metadata": {},
   "outputs": [],
   "source": [
    "import boto3\n",
    "import cv2\n",
    "from cvzone.HandTrackingModule import HandDetector"
   ]
  },
  {
   "cell_type": "code",
   "execution_count": 10,
   "metadata": {},
   "outputs": [],
   "source": [
    "def launch_instance():\n",
    "    myec2 = boto3.client(\"ec2\")\n",
    "    print(myec2.run_instances(\n",
    "        ImageId='ami-0ded8326293d3201b',\n",
    "        InstanceType=\"t2.micro\",\n",
    "        MaxCount=1,\n",
    "        MinCount=1\n",
    "    ))\n",
    "\n",
    "def stop_instance():\n",
    "    myec2 = boto3.client(\"ec2\")\n",
    "    instance_name = \"new-instance\"\n",
    "    print(myec2.stop_instances(\n",
    "        Filters=[\n",
    "            {\n",
    "                'Name': 'tag:Name',\n",
    "                'Values': [instance_name]\n",
    "            }\n",
    "        ]\n",
    "    ))\n",
    "\n",
    "def list_instances():\n",
    "    myec2 = boto3.client(\"ec2\")\n",
    "    print(myec2.describe_instances())"
   ]
  },
  {
   "cell_type": "code",
   "execution_count": null,
   "metadata": {},
   "outputs": [
    {
     "name": "stdout",
     "output_type": "stream",
     "text": [
      "{'Groups': [], 'Instances': [{'AmiLaunchIndex': 0, 'ImageId': 'ami-0ded8326293d3201b', 'InstanceId': 'i-0b09b7752ea02d22d', 'InstanceType': 't2.micro', 'LaunchTime': datetime.datetime(2023, 9, 28, 17, 12, 54, tzinfo=tzutc()), 'Monitoring': {'State': 'disabled'}, 'Placement': {'AvailabilityZone': 'ap-south-1a', 'GroupName': '', 'Tenancy': 'default'}, 'PrivateDnsName': 'ip-172-31-36-197.ap-south-1.compute.internal', 'PrivateIpAddress': '172.31.36.197', 'ProductCodes': [], 'PublicDnsName': '', 'State': {'Code': 0, 'Name': 'pending'}, 'StateTransitionReason': '', 'SubnetId': 'subnet-0571dd0363eab3fe9', 'VpcId': 'vpc-0626a9bb8e46232e1', 'Architecture': 'x86_64', 'BlockDeviceMappings': [], 'ClientToken': '4dc6513b-149b-4458-9bc3-a9ca7041b7be', 'EbsOptimized': False, 'EnaSupport': True, 'Hypervisor': 'xen', 'NetworkInterfaces': [{'Attachment': {'AttachTime': datetime.datetime(2023, 9, 28, 17, 12, 54, tzinfo=tzutc()), 'AttachmentId': 'eni-attach-00fbbc59e72145f8b', 'DeleteOnTermination': True, 'DeviceIndex': 0, 'Status': 'attaching', 'NetworkCardIndex': 0}, 'Description': '', 'Groups': [{'GroupName': 'default', 'GroupId': 'sg-0748fa2d4930c2ef0'}], 'Ipv6Addresses': [], 'MacAddress': '02:75:04:cd:b1:6e', 'NetworkInterfaceId': 'eni-0c2e3c8f65173a422', 'OwnerId': '418272579003', 'PrivateDnsName': 'ip-172-31-36-197.ap-south-1.compute.internal', 'PrivateIpAddress': '172.31.36.197', 'PrivateIpAddresses': [{'Primary': True, 'PrivateDnsName': 'ip-172-31-36-197.ap-south-1.compute.internal', 'PrivateIpAddress': '172.31.36.197'}], 'SourceDestCheck': True, 'Status': 'in-use', 'SubnetId': 'subnet-0571dd0363eab3fe9', 'VpcId': 'vpc-0626a9bb8e46232e1', 'InterfaceType': 'interface'}], 'RootDeviceName': '/dev/xvda', 'RootDeviceType': 'ebs', 'SecurityGroups': [{'GroupName': 'default', 'GroupId': 'sg-0748fa2d4930c2ef0'}], 'SourceDestCheck': True, 'StateReason': {'Code': 'pending', 'Message': 'pending'}, 'VirtualizationType': 'hvm', 'CpuOptions': {'CoreCount': 1, 'ThreadsPerCore': 1}, 'CapacityReservationSpecification': {'CapacityReservationPreference': 'open'}, 'MetadataOptions': {'State': 'pending', 'HttpTokens': 'required', 'HttpPutResponseHopLimit': 2, 'HttpEndpoint': 'enabled', 'HttpProtocolIpv6': 'disabled', 'InstanceMetadataTags': 'disabled'}, 'EnclaveOptions': {'Enabled': False}, 'BootMode': 'uefi-preferred', 'PrivateDnsNameOptions': {'HostnameType': 'ip-name', 'EnableResourceNameDnsARecord': False, 'EnableResourceNameDnsAAAARecord': False}, 'MaintenanceOptions': {'AutoRecovery': 'default'}, 'CurrentInstanceBootMode': 'legacy-bios'}], 'OwnerId': '418272579003', 'ReservationId': 'r-0bce1211f1ca001e0', 'ResponseMetadata': {'RequestId': 'cfc3cea1-23ad-4619-87e5-0acaeb65cc5f', 'HTTPStatusCode': 200, 'HTTPHeaders': {'x-amzn-requestid': 'cfc3cea1-23ad-4619-87e5-0acaeb65cc5f', 'cache-control': 'no-cache, no-store', 'strict-transport-security': 'max-age=31536000; includeSubDomains', 'vary': 'accept-encoding', 'content-type': 'text/xml;charset=UTF-8', 'content-length': '5638', 'date': 'Thu, 28 Sep 2023 17:12:53 GMT', 'server': 'AmazonEC2'}, 'RetryAttempts': 0}}\n",
      "None\n"
     ]
    },
    {
     "ename": "",
     "evalue": "",
     "output_type": "error",
     "traceback": [
      "\u001b[1;31mThe Kernel crashed while executing code in the the current cell or a previous cell. Please review the code in the cell(s) to identify a possible cause of the failure. Click <a href='https://aka.ms/vscodeJupyterKernelCrash'>here</a> for more info. View Jupyter <a href='command:jupyter.viewOutput'>log</a> for further details."
     ]
    }
   ],
   "source": [
    "cam = cv2.VideoCapture(0)\n",
    "\n",
    "while True:\n",
    "    success, img = cam.read()\n",
    "    cv2.imshow(\"Image\", img)\n",
    "\n",
    "    if cv2.waitKey(100) == ord('q'):\n",
    "        break\n",
    "\n",
    "    detect = HandDetector()\n",
    "    handpic = detect.findHands(img, draw=False)\n",
    "\n",
    "    if handpic:\n",
    "        landmark_list = handpic[0]\n",
    "        finger_status = detect.fingersUp(landmark_list)\n",
    "\n",
    "        if finger_status == [1, 1, 1, 1, 1] and landmark_list['type'] == 'Left':\n",
    "            break\n",
    "\n",
    "        if finger_status == [1, 0, 0, 0, 0] and landmark_list['type'] == 'Left':\n",
    "            list_instances()\n",
    "\n",
    "        if finger_status and landmark_list['type'] == 'Right':\n",
    "            for i in finger_status:\n",
    "                if i == 1:\n",
    "                    print(launch_instance())\n",
    "        \n",
    "cv2.destroyAllWindows()\n",
    "cam.release()"
   ]
  }
 ],
 "metadata": {
  "kernelspec": {
   "display_name": "Python 3",
   "language": "python",
   "name": "python3"
  },
  "language_info": {
   "codemirror_mode": {
    "name": "ipython",
    "version": 3
   },
   "file_extension": ".py",
   "mimetype": "text/x-python",
   "name": "python",
   "nbconvert_exporter": "python",
   "pygments_lexer": "ipython3",
   "version": "3.10.11"
  },
  "orig_nbformat": 4
 },
 "nbformat": 4,
 "nbformat_minor": 2
}
